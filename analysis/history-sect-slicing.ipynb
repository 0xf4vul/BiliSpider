{
 "cells": [
  {
   "cell_type": "markdown",
   "metadata": {},
   "source": [
    "## History data"
   ]
  },
  {
   "cell_type": "code",
   "execution_count": 1,
   "metadata": {},
   "outputs": [],
   "source": [
    "import numpy as np\n",
    "import pandas as pd\n",
    "import matplotlib.pyplot as plt\n",
    "from pandas.plotting import scatter_matrix\n",
    "\n",
    "import seaborn as sns\n",
    "sns.set_style(\"white\")\n",
    "fig_w = 2530\n",
    "fig_h = 1900\n",
    "my_dpi=200\n",
    "\n",
    "import dateutil"
   ]
  },
  {
   "cell_type": "markdown",
   "metadata": {},
   "source": [
    "Config plot styles"
   ]
  },
  {
   "cell_type": "code",
   "execution_count": 2,
   "metadata": {},
   "outputs": [],
   "source": [
    "plt.style.use('ggplot')\n",
    "\n",
    "from matplotlib import rcParams\n",
    "# plt.rcParams['font.sans-serif'] = ['SimHei']  # 用来正常显示中文标签\n",
    "plt.rcParams['axes.unicode_minus'] = False  # 用来正常显示负号\n",
    "\n",
    "plt.rc('font', family='BabelStone Han', size=13) # 选择你自己电脑上的字体"
   ]
  },
  {
   "cell_type": "markdown",
   "metadata": {},
   "source": [
    "Load data"
   ]
  },
  {
   "cell_type": "code",
   "execution_count": 3,
   "metadata": {},
   "outputs": [],
   "source": [
    "# 如果还没有数据，来群里索要数据文件就行\n",
    "\n",
    "df = pd.read_csv('data/full-data.csv') "
   ]
  },
  {
   "cell_type": "markdown",
   "metadata": {},
   "source": [
    "Validate all the possible columns of data frame"
   ]
  },
  {
   "cell_type": "code",
   "execution_count": 4,
   "metadata": {},
   "outputs": [
    {
     "data": {
      "text/plain": [
       "['Unnamed: 0',\n",
       " 'aid',\n",
       " 'uid',\n",
       " 'time',\n",
       " 'duration',\n",
       " 'state',\n",
       " 'view',\n",
       " 'danmaku',\n",
       " 'coin',\n",
       " 'favorite',\n",
       " 'share',\n",
       " 'reply',\n",
       " 'like',\n",
       " 'sectid',\n",
       " 'sectname']"
      ]
     },
     "execution_count": 4,
     "metadata": {},
     "output_type": "execute_result"
    }
   ],
   "source": [
    "list(df.columns.values)"
   ]
  },
  {
   "cell_type": "code",
   "execution_count": 5,
   "metadata": {},
   "outputs": [],
   "source": [
    "df['time'] = pd.to_datetime(df['time'],unit='s')#.dt.date"
   ]
  },
  {
   "cell_type": "code",
   "execution_count": 195,
   "metadata": {},
   "outputs": [],
   "source": [
    "# df;"
   ]
  },
  {
   "cell_type": "markdown",
   "metadata": {},
   "source": [
    "## Group by sects"
   ]
  },
  {
   "cell_type": "markdown",
   "metadata": {},
   "source": [
    "Get all the sects by sectname"
   ]
  },
  {
   "cell_type": "code",
   "execution_count": 7,
   "metadata": {},
   "outputs": [
    {
     "data": {
      "text/plain": [
       "'连载剧集'"
      ]
     },
     "execution_count": 7,
     "metadata": {},
     "output_type": "execute_result"
    }
   ],
   "source": [
    "sects = df.sectname.unique()\n",
    "sects[0]"
   ]
  },
  {
   "cell_type": "markdown",
   "metadata": {},
   "source": [
    "Create a dataframe to store the average data"
   ]
  },
  {
   "cell_type": "code",
   "execution_count": 196,
   "metadata": {},
   "outputs": [],
   "source": [
    "index_store = ['date','tduration', 'tview', 'tcoin', 'tfavorite', 'tlike','totalv','mostaid']\n",
    "\n",
    "# idx = 3\n",
    "for idx in np.arange(len(sects) ):\n",
    "    df_sect = df[df['sectname']==sects[idx]] \n",
    "\n",
    "    max_date = df_sect.time.max()\n",
    "    min_date = df_sect.time.min()\n",
    "    sect_id_str = str(df_sect.sectid.unique()[0])\n",
    "    sect_name_str = str(sects[idx])\n",
    "\n",
    "    dateseries = pd.date_range(start=min_date, end=max_date, freq='10D')\n",
    "\n",
    "\n",
    "    df_store = pd.DataFrame(columns=index_store)\n",
    "\n",
    "\n",
    "    ########\n",
    "    # Loop Through Dates\n",
    "    ########\n",
    "\n",
    "    # d_idx = 0\n",
    "\n",
    "    for d_idx in np.arange(len(dateseries) -1 ):\n",
    "        df_sect_temp = df_sect[df_sect['time'].between(dateseries[d_idx],dateseries[d_idx+1])]\n",
    "\n",
    "        if  not df_sect_temp.empty:\n",
    "            mostviewed_temp = df_sect_temp.loc[df_sect_temp['view'].idxmax()].aid\n",
    "            totalrows_temp = len(df_sect_temp.index)\n",
    "            sumviews_temp = np.sum(df_sect_temp['view'].values)\n",
    "            sumduration_temp = np.sum(df_sect_temp['duration'].values)\n",
    "            sumcoin_temp = np.sum(df_sect_temp['coin'].values)\n",
    "            sumfav_temp = np.sum(df_sect_temp['favorite'].values)\n",
    "            sumlike_temp = np.sum(df_sect_temp['like'].values)\n",
    "\n",
    "            df_sect_temp2 = df_sect_temp.mean().round(2)\n",
    "\n",
    "            values_temp = [dateseries[d_idx] , sumduration_temp, sumviews_temp, sumcoin_temp, sumfav_temp, sumlike_temp, totalrows_temp ,mostviewed_temp]\n",
    "\n",
    "            df_store_temp = pd.DataFrame([values_temp],columns=['date','tduration', 'tview', 'tcoin', 'tfavorite', 'tlike','totalv','mostaid'])\n",
    "\n",
    "\n",
    "            df_store = (pd.concat([df_store, df_store_temp]) ).reset_index(drop=True)\n",
    "\n",
    "\n",
    "    df_store.to_csv('export/batch/'+sect_id_str+'-'+sect_name_str+'.csv', sep=',', encoding='utf-8')"
   ]
  },
  {
   "cell_type": "code",
   "execution_count": null,
   "metadata": {},
   "outputs": [],
   "source": []
  }
 ],
 "metadata": {
  "kernelspec": {
   "display_name": "Python 3",
   "language": "python",
   "name": "python3"
  },
  "language_info": {
   "codemirror_mode": {
    "name": "ipython",
    "version": 3
   },
   "file_extension": ".py",
   "mimetype": "text/x-python",
   "name": "python",
   "nbconvert_exporter": "python",
   "pygments_lexer": "ipython3",
   "version": "3.6.4"
  }
 },
 "nbformat": 4,
 "nbformat_minor": 2
}
